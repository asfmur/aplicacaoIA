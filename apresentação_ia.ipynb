{
  "nbformat": 4,
  "nbformat_minor": 0,
  "metadata": {
    "colab": {
      "provenance": [],
      "authorship_tag": "ABX9TyNwsed3gOZ3skn1lZ6AyOib",
      "include_colab_link": true
    },
    "kernelspec": {
      "name": "python3",
      "display_name": "Python 3"
    },
    "language_info": {
      "name": "python"
    }
  },
  "cells": [
    {
      "cell_type": "markdown",
      "metadata": {
        "id": "view-in-github",
        "colab_type": "text"
      },
      "source": [
        "<a href=\"https://colab.research.google.com/github/asfmur/aplicacaoIA/blob/main/apresenta%C3%A7%C3%A3o_ia.ipynb\" target=\"_parent\"><img src=\"https://colab.research.google.com/assets/colab-badge.svg\" alt=\"Open In Colab\"/></a>"
      ]
    },
    {
      "cell_type": "code",
      "execution_count": null,
      "metadata": {
        "id": "TnrEnBbmjUoX"
      },
      "outputs": [],
      "source": []
    },
    {
      "cell_type": "markdown",
      "source": [
        "Aplicação da cadeira de IA. Redes neurais recorrentes, usando redes recorrentes simples para implementar a aplicação, a qual vai receber dados temporais e serem treinadas através de propagação posterior através do tempo, tabém ousando algoritmos de descida de gradiente para cnntrolar a poderação trantando os desaparecmentos e explosoes. Objetivo: com base nos dados dessse periodo de tempo(treinamento) caucule a inflação entre o seguinte periodo de tempo (testes)."
      ],
      "metadata": {
        "id": "KudSPGhQjWjU"
      }
    },
    {
      "cell_type": "markdown",
      "source": [
        "Separei o dataset entre treino e teste  em aroximadamente 80% e 20%.####Talvez precise refazer isso"
      ],
      "metadata": {
        "id": "TzIuDafUb6r5"
      }
    },
    {
      "cell_type": "code",
      "source": [
        "import numpy as np\n",
        "import pandas as pd\n",
        "import matplotlib.pyplot as plt\n",
        "\n",
        "#dados para treino importados\n",
        "dadosDeTreino = pd.read_csv('treino-inflation-rate-brazil.csv')\n",
        "\n",
        "##Seleciona uma coluna dos dados de treino e guardamos\n",
        "# dentro de um NumPy array\n",
        "dadosDeTreino = dadosDeTreino.iloc[:, 2].values\n",
        "\n",
        "\n",
        "#excluir para visualizar #print(dadosDeTreino)\n",
        "#excluir para visualizar#type(dadosDetreino)\n",
        "\n",
        "\n",
        "#escalonamento usando normalização limitando  os valores entre 0 e 1\n",
        "#usando o scikit-learn MinMaxScaler para a normalização\n",
        "from sklearn.preprocessing import MinMaxScaler\n",
        "#criando um objeto escalonador\n",
        "scl = MinMaxScaler()\n",
        "#usando o escalonador para modificar o dataset\n",
        "#tornando todo ponto de observação da RNN esteja entre 0 e 1\n",
        "dadosDeTreino = scl.fit_transform(dadosDeTreino.reshape(-1,1))\n",
        "\n",
        "#especificando timesteps(quantidade de observações antecedentes)\n",
        "#devem ser consideradas. Para criar timessteps usa-se 2 estrutura de dados\n",
        "\n",
        "#RNN leva em consideração antes de prever = x\n",
        "#RNN está tentando prever = y\n",
        "\n",
        "dadosDeTreinox= []\n",
        "dadosDeTreinoy = []\n",
        "#\n",
        "for i in range(60, len(dadosDeTreino)):\n",
        "  dadosDeTreinox(dadosDeTreino[i-40:i, 0])\n",
        "  dadosDeTreinoy.append(dadosDeTreino[i, 0])\n",
        "\n"
      ],
      "metadata": {
        "id": "hw5Hl5TJ-nIR"
      },
      "execution_count": null,
      "outputs": []
    }
  ]
}