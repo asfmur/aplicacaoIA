{
  "nbformat": 4,
  "nbformat_minor": 0,
  "metadata": {
    "colab": {
      "provenance": [],
      "authorship_tag": "ABX9TyNcqvBru5ZL0r/pWsAIAiGU",
      "include_colab_link": true
    },
    "kernelspec": {
      "name": "python3",
      "display_name": "Python 3"
    },
    "language_info": {
      "name": "python"
    }
  },
  "cells": [
    {
      "cell_type": "markdown",
      "metadata": {
        "id": "view-in-github",
        "colab_type": "text"
      },
      "source": [
        "<a href=\"https://colab.research.google.com/github/asfmur/aplicacaoIA/blob/main/apresenta%C3%A7%C3%A3o_ia.ipynb\" target=\"_parent\"><img src=\"https://colab.research.google.com/assets/colab-badge.svg\" alt=\"Open In Colab\"/></a>"
      ]
    },
    {
      "cell_type": "code",
      "execution_count": null,
      "metadata": {
        "id": "TnrEnBbmjUoX"
      },
      "outputs": [],
      "source": []
    },
    {
      "cell_type": "markdown",
      "source": [
        "Aplicação da cadeira de IA. Redes neurais recorrentes, usando redes recorrentes simples para implementar a aplicação, a qual vai receber dados temporais e serem treinadas através de propagação posterior através do tempo, tabém ousando algoritmos de descida de gradiente para cnntrolar a poderação trantando os desaparecmentos e explosoes. Objetivo: com base nos dados dessse periodo de tempo(treinamento) caucule a inflação entre o seguinte periodo de tempo (testes)."
      ],
      "metadata": {
        "id": "KudSPGhQjWjU"
      }
    },
    {
      "cell_type": "code",
      "source": [
        "import numpy as np\n",
        "import pandas as pd\n",
        "import matplotlib.pyplot as plt"
      ],
      "metadata": {
        "id": "hw5Hl5TJ-nIR"
      },
      "execution_count": 1,
      "outputs": []
    }
  ]
}